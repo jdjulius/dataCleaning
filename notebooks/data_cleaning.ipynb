{
 "cells": [
  {
   "cell_type": "code",
   "execution_count": 1,
   "metadata": {
    "ExecuteTime": {
     "end_time": "2023-06-12T12:39:54.877957Z",
     "start_time": "2023-06-12T12:39:54.861425200Z"
    }
   },
   "outputs": [],
   "source": [
    "import pandas as pd\n",
    "import numpy as np\n",
    "import seaborn as sd\n"
   ]
  },
  {
   "cell_type": "code",
   "execution_count": 6,
   "outputs": [],
   "source": [
    "data = pd.read_csv('../data/raw/data_act_01.csv', sep=';')"
   ],
   "metadata": {
    "collapsed": false,
    "ExecuteTime": {
     "end_time": "2023-06-12T12:46:04.814768800Z",
     "start_time": "2023-06-12T12:46:04.784774400Z"
    }
   }
  },
  {
   "cell_type": "code",
   "execution_count": 7,
   "outputs": [
    {
     "data": {
      "text/plain": "         CrimeId OriginalCrimeTypeName          OffenseDate CallTime  \\\n0      160903280     Assault / Battery  2016-03-30T00:00:00    18:42   \n1      160912272    Homeless Complaint  2016-03-31T00:00:00    15:31   \n2      160912590             Susp Info  2016-03-31T00:00:00    16:49   \n3      160912801                Report  2016-03-31T00:00:00    17:38   \n4      160912811                   594  2016-03-31T00:00:00    17:42   \n...          ...                   ...                  ...      ...   \n10046  160964210      Well Being Check  2016-04-05T00:00:00    23:38   \n10047  160964216          Traffic Stop  2016-04-05T00:00:00    23:43   \n10048  160964227          Traffic Stop  2016-04-05T00:00:00    23:48   \n10049  160964229          Passing Call  2016-04-05T00:00:00    23:48   \n10050  160964249          Traffic Stop  2016-04-05T00:00:00    23:54   \n\n              CallDateTime   Disposition                  Address  \\\n0      2016-03-30T18:42:00           REP  100 Block Of Chilton Av   \n1      2016-03-31T15:31:00           GOA  2300 Block Of Market St   \n2      2016-03-31T16:49:00           GOA  2300 Block Of Market St   \n3      2016-03-31T17:38:00           GOA      500 Block Of 7th St   \n4      2016-03-31T17:42:00           REP       Beale St/bryant St   \n...                    ...           ...                      ...   \n10046  2016-04-05T23:38:00           GOA    Hollister Av/hawes St   \n10047  2016-04-05T23:43:00           ADV   California St/mason St   \n10048  2016-04-05T23:48:00           CIT   Rosella Ct/onondaga Av   \n10049  2016-04-05T23:48:00  Not recorded          0 Blk Herbst Rd   \n10050  2016-04-05T23:54:00           ADV        Grant Av/geary St   \n\n                City State AgencyId  Range      AddressType  \n0      San Francisco    CA        1    NaN  Premise Address  \n1      San Francisco    CA        1    NaN  Premise Address  \n2      San Francisco    CA        1    NaN  Premise Address  \n3      San Francisco    CA        1    NaN  Premise Address  \n4      San Francisco    CA        1    NaN     Intersection  \n...              ...   ...      ...    ...              ...  \n10046  San Francisco    CA        1    NaN     Intersection  \n10047  San Francisco    CA        1    NaN     Intersection  \n10048  San Francisco    CA        1    NaN     Intersection  \n10049  San Francisco    CA        1    NaN     Geo-Override  \n10050  San Francisco    CA        1    NaN     Intersection  \n\n[10051 rows x 12 columns]",
      "text/html": "<div>\n<style scoped>\n    .dataframe tbody tr th:only-of-type {\n        vertical-align: middle;\n    }\n\n    .dataframe tbody tr th {\n        vertical-align: top;\n    }\n\n    .dataframe thead th {\n        text-align: right;\n    }\n</style>\n<table border=\"1\" class=\"dataframe\">\n  <thead>\n    <tr style=\"text-align: right;\">\n      <th></th>\n      <th>CrimeId</th>\n      <th>OriginalCrimeTypeName</th>\n      <th>OffenseDate</th>\n      <th>CallTime</th>\n      <th>CallDateTime</th>\n      <th>Disposition</th>\n      <th>Address</th>\n      <th>City</th>\n      <th>State</th>\n      <th>AgencyId</th>\n      <th>Range</th>\n      <th>AddressType</th>\n    </tr>\n  </thead>\n  <tbody>\n    <tr>\n      <th>0</th>\n      <td>160903280</td>\n      <td>Assault / Battery</td>\n      <td>2016-03-30T00:00:00</td>\n      <td>18:42</td>\n      <td>2016-03-30T18:42:00</td>\n      <td>REP</td>\n      <td>100 Block Of Chilton Av</td>\n      <td>San Francisco</td>\n      <td>CA</td>\n      <td>1</td>\n      <td>NaN</td>\n      <td>Premise Address</td>\n    </tr>\n    <tr>\n      <th>1</th>\n      <td>160912272</td>\n      <td>Homeless Complaint</td>\n      <td>2016-03-31T00:00:00</td>\n      <td>15:31</td>\n      <td>2016-03-31T15:31:00</td>\n      <td>GOA</td>\n      <td>2300 Block Of Market St</td>\n      <td>San Francisco</td>\n      <td>CA</td>\n      <td>1</td>\n      <td>NaN</td>\n      <td>Premise Address</td>\n    </tr>\n    <tr>\n      <th>2</th>\n      <td>160912590</td>\n      <td>Susp Info</td>\n      <td>2016-03-31T00:00:00</td>\n      <td>16:49</td>\n      <td>2016-03-31T16:49:00</td>\n      <td>GOA</td>\n      <td>2300 Block Of Market St</td>\n      <td>San Francisco</td>\n      <td>CA</td>\n      <td>1</td>\n      <td>NaN</td>\n      <td>Premise Address</td>\n    </tr>\n    <tr>\n      <th>3</th>\n      <td>160912801</td>\n      <td>Report</td>\n      <td>2016-03-31T00:00:00</td>\n      <td>17:38</td>\n      <td>2016-03-31T17:38:00</td>\n      <td>GOA</td>\n      <td>500 Block Of 7th St</td>\n      <td>San Francisco</td>\n      <td>CA</td>\n      <td>1</td>\n      <td>NaN</td>\n      <td>Premise Address</td>\n    </tr>\n    <tr>\n      <th>4</th>\n      <td>160912811</td>\n      <td>594</td>\n      <td>2016-03-31T00:00:00</td>\n      <td>17:42</td>\n      <td>2016-03-31T17:42:00</td>\n      <td>REP</td>\n      <td>Beale St/bryant St</td>\n      <td>San Francisco</td>\n      <td>CA</td>\n      <td>1</td>\n      <td>NaN</td>\n      <td>Intersection</td>\n    </tr>\n    <tr>\n      <th>...</th>\n      <td>...</td>\n      <td>...</td>\n      <td>...</td>\n      <td>...</td>\n      <td>...</td>\n      <td>...</td>\n      <td>...</td>\n      <td>...</td>\n      <td>...</td>\n      <td>...</td>\n      <td>...</td>\n      <td>...</td>\n    </tr>\n    <tr>\n      <th>10046</th>\n      <td>160964210</td>\n      <td>Well Being Check</td>\n      <td>2016-04-05T00:00:00</td>\n      <td>23:38</td>\n      <td>2016-04-05T23:38:00</td>\n      <td>GOA</td>\n      <td>Hollister Av/hawes St</td>\n      <td>San Francisco</td>\n      <td>CA</td>\n      <td>1</td>\n      <td>NaN</td>\n      <td>Intersection</td>\n    </tr>\n    <tr>\n      <th>10047</th>\n      <td>160964216</td>\n      <td>Traffic Stop</td>\n      <td>2016-04-05T00:00:00</td>\n      <td>23:43</td>\n      <td>2016-04-05T23:43:00</td>\n      <td>ADV</td>\n      <td>California St/mason St</td>\n      <td>San Francisco</td>\n      <td>CA</td>\n      <td>1</td>\n      <td>NaN</td>\n      <td>Intersection</td>\n    </tr>\n    <tr>\n      <th>10048</th>\n      <td>160964227</td>\n      <td>Traffic Stop</td>\n      <td>2016-04-05T00:00:00</td>\n      <td>23:48</td>\n      <td>2016-04-05T23:48:00</td>\n      <td>CIT</td>\n      <td>Rosella Ct/onondaga Av</td>\n      <td>San Francisco</td>\n      <td>CA</td>\n      <td>1</td>\n      <td>NaN</td>\n      <td>Intersection</td>\n    </tr>\n    <tr>\n      <th>10049</th>\n      <td>160964229</td>\n      <td>Passing Call</td>\n      <td>2016-04-05T00:00:00</td>\n      <td>23:48</td>\n      <td>2016-04-05T23:48:00</td>\n      <td>Not recorded</td>\n      <td>0 Blk Herbst Rd</td>\n      <td>San Francisco</td>\n      <td>CA</td>\n      <td>1</td>\n      <td>NaN</td>\n      <td>Geo-Override</td>\n    </tr>\n    <tr>\n      <th>10050</th>\n      <td>160964249</td>\n      <td>Traffic Stop</td>\n      <td>2016-04-05T00:00:00</td>\n      <td>23:54</td>\n      <td>2016-04-05T23:54:00</td>\n      <td>ADV</td>\n      <td>Grant Av/geary St</td>\n      <td>San Francisco</td>\n      <td>CA</td>\n      <td>1</td>\n      <td>NaN</td>\n      <td>Intersection</td>\n    </tr>\n  </tbody>\n</table>\n<p>10051 rows × 12 columns</p>\n</div>"
     },
     "execution_count": 7,
     "metadata": {},
     "output_type": "execute_result"
    }
   ],
   "source": [
    "data"
   ],
   "metadata": {
    "collapsed": false,
    "ExecuteTime": {
     "end_time": "2023-06-12T12:46:06.517310200Z",
     "start_time": "2023-06-12T12:46:06.499306600Z"
    }
   }
  },
  {
   "cell_type": "code",
   "execution_count": 9,
   "outputs": [
    {
     "data": {
      "text/plain": "CrimeId                    int64\nOriginalCrimeTypeName     object\nOffenseDate               object\nCallTime                  object\nCallDateTime              object\nDisposition               object\nAddress                   object\nCity                      object\nState                     object\nAgencyId                  object\nRange                    float64\nAddressType               object\ndtype: object"
     },
     "execution_count": 9,
     "metadata": {},
     "output_type": "execute_result"
    }
   ],
   "source": [
    "data.dtypes"
   ],
   "metadata": {
    "collapsed": false,
    "ExecuteTime": {
     "end_time": "2023-06-12T12:48:22.908598100Z",
     "start_time": "2023-06-12T12:48:22.888601300Z"
    }
   }
  },
  {
   "cell_type": "code",
   "execution_count": 12,
   "outputs": [
    {
     "name": "stdout",
     "output_type": "stream",
     "text": [
      "<class 'pandas.core.frame.DataFrame'>\n",
      "RangeIndex: 10051 entries, 0 to 10050\n",
      "Data columns (total 12 columns):\n",
      " #   Column                 Non-Null Count  Dtype  \n",
      "---  ------                 --------------  -----  \n",
      " 0   CrimeId                10051 non-null  int64  \n",
      " 1   OriginalCrimeTypeName  10051 non-null  object \n",
      " 2   OffenseDate            10051 non-null  object \n",
      " 3   CallTime               10051 non-null  object \n",
      " 4   CallDateTime           10051 non-null  object \n",
      " 5   Disposition            10051 non-null  object \n",
      " 6   Address                10051 non-null  object \n",
      " 7   City                   9730 non-null   object \n",
      " 8   State                  10048 non-null  object \n",
      " 9   AgencyId               10051 non-null  object \n",
      " 10  Range                  0 non-null      float64\n",
      " 11  AddressType            10051 non-null  object \n",
      "dtypes: float64(1), int64(1), object(10)\n",
      "memory usage: 942.4+ KB\n"
     ]
    }
   ],
   "source": [
    "data.info()"
   ],
   "metadata": {
    "collapsed": false,
    "ExecuteTime": {
     "end_time": "2023-06-12T12:57:31.296026100Z",
     "start_time": "2023-06-12T12:57:31.250998500Z"
    }
   }
  },
  {
   "cell_type": "code",
   "execution_count": 13,
   "outputs": [
    {
     "data": {
      "text/plain": "     CrimeId OriginalCrimeTypeName          OffenseDate CallTime  \\\n0  160903280     Assault / Battery  2016-03-30T00:00:00    18:42   \n1  160912272    Homeless Complaint  2016-03-31T00:00:00    15:31   \n2  160912590             Susp Info  2016-03-31T00:00:00    16:49   \n3  160912801                Report  2016-03-31T00:00:00    17:38   \n4  160912811                   594  2016-03-31T00:00:00    17:42   \n\n          CallDateTime Disposition                  Address           City  \\\n0  2016-03-30T18:42:00         REP  100 Block Of Chilton Av  San Francisco   \n1  2016-03-31T15:31:00         GOA  2300 Block Of Market St  San Francisco   \n2  2016-03-31T16:49:00         GOA  2300 Block Of Market St  San Francisco   \n3  2016-03-31T17:38:00         GOA      500 Block Of 7th St  San Francisco   \n4  2016-03-31T17:42:00         REP       Beale St/bryant St  San Francisco   \n\n  State AgencyId  Range      AddressType  \n0    CA        1    NaN  Premise Address  \n1    CA        1    NaN  Premise Address  \n2    CA        1    NaN  Premise Address  \n3    CA        1    NaN  Premise Address  \n4    CA        1    NaN     Intersection  ",
      "text/html": "<div>\n<style scoped>\n    .dataframe tbody tr th:only-of-type {\n        vertical-align: middle;\n    }\n\n    .dataframe tbody tr th {\n        vertical-align: top;\n    }\n\n    .dataframe thead th {\n        text-align: right;\n    }\n</style>\n<table border=\"1\" class=\"dataframe\">\n  <thead>\n    <tr style=\"text-align: right;\">\n      <th></th>\n      <th>CrimeId</th>\n      <th>OriginalCrimeTypeName</th>\n      <th>OffenseDate</th>\n      <th>CallTime</th>\n      <th>CallDateTime</th>\n      <th>Disposition</th>\n      <th>Address</th>\n      <th>City</th>\n      <th>State</th>\n      <th>AgencyId</th>\n      <th>Range</th>\n      <th>AddressType</th>\n    </tr>\n  </thead>\n  <tbody>\n    <tr>\n      <th>0</th>\n      <td>160903280</td>\n      <td>Assault / Battery</td>\n      <td>2016-03-30T00:00:00</td>\n      <td>18:42</td>\n      <td>2016-03-30T18:42:00</td>\n      <td>REP</td>\n      <td>100 Block Of Chilton Av</td>\n      <td>San Francisco</td>\n      <td>CA</td>\n      <td>1</td>\n      <td>NaN</td>\n      <td>Premise Address</td>\n    </tr>\n    <tr>\n      <th>1</th>\n      <td>160912272</td>\n      <td>Homeless Complaint</td>\n      <td>2016-03-31T00:00:00</td>\n      <td>15:31</td>\n      <td>2016-03-31T15:31:00</td>\n      <td>GOA</td>\n      <td>2300 Block Of Market St</td>\n      <td>San Francisco</td>\n      <td>CA</td>\n      <td>1</td>\n      <td>NaN</td>\n      <td>Premise Address</td>\n    </tr>\n    <tr>\n      <th>2</th>\n      <td>160912590</td>\n      <td>Susp Info</td>\n      <td>2016-03-31T00:00:00</td>\n      <td>16:49</td>\n      <td>2016-03-31T16:49:00</td>\n      <td>GOA</td>\n      <td>2300 Block Of Market St</td>\n      <td>San Francisco</td>\n      <td>CA</td>\n      <td>1</td>\n      <td>NaN</td>\n      <td>Premise Address</td>\n    </tr>\n    <tr>\n      <th>3</th>\n      <td>160912801</td>\n      <td>Report</td>\n      <td>2016-03-31T00:00:00</td>\n      <td>17:38</td>\n      <td>2016-03-31T17:38:00</td>\n      <td>GOA</td>\n      <td>500 Block Of 7th St</td>\n      <td>San Francisco</td>\n      <td>CA</td>\n      <td>1</td>\n      <td>NaN</td>\n      <td>Premise Address</td>\n    </tr>\n    <tr>\n      <th>4</th>\n      <td>160912811</td>\n      <td>594</td>\n      <td>2016-03-31T00:00:00</td>\n      <td>17:42</td>\n      <td>2016-03-31T17:42:00</td>\n      <td>REP</td>\n      <td>Beale St/bryant St</td>\n      <td>San Francisco</td>\n      <td>CA</td>\n      <td>1</td>\n      <td>NaN</td>\n      <td>Intersection</td>\n    </tr>\n  </tbody>\n</table>\n</div>"
     },
     "execution_count": 13,
     "metadata": {},
     "output_type": "execute_result"
    }
   ],
   "source": [
    "data.head()"
   ],
   "metadata": {
    "collapsed": false,
    "ExecuteTime": {
     "end_time": "2023-06-12T12:57:34.502290100Z",
     "start_time": "2023-06-12T12:57:34.468099Z"
    }
   }
  },
  {
   "cell_type": "code",
   "execution_count": 32,
   "outputs": [
    {
     "data": {
      "text/plain": "         CrimeId OriginalCrimeTypeName          OffenseDate CallTime  \\\n10046  160964210      Well Being Check  2016-04-05T00:00:00    23:38   \n10047  160964216          Traffic Stop  2016-04-05T00:00:00    23:43   \n10048  160964227          Traffic Stop  2016-04-05T00:00:00    23:48   \n10049  160964229          Passing Call  2016-04-05T00:00:00    23:48   \n10050  160964249          Traffic Stop  2016-04-05T00:00:00    23:54   \n\n              CallDateTime   Disposition                 Address  \\\n10046  2016-04-05T23:38:00           GOA   Hollister Av/hawes St   \n10047  2016-04-05T23:43:00           ADV  California St/mason St   \n10048  2016-04-05T23:48:00           CIT  Rosella Ct/onondaga Av   \n10049  2016-04-05T23:48:00  Not recorded         0 Blk Herbst Rd   \n10050  2016-04-05T23:54:00           ADV       Grant Av/geary St   \n\n                City State AgencyId  Range   AddressType  \n10046  San Francisco    CA        1    NaN  Intersection  \n10047  San Francisco    CA        1    NaN  Intersection  \n10048  San Francisco    CA        1    NaN  Intersection  \n10049  San Francisco    CA        1    NaN  Geo-Override  \n10050  San Francisco    CA        1    NaN  Intersection  ",
      "text/html": "<div>\n<style scoped>\n    .dataframe tbody tr th:only-of-type {\n        vertical-align: middle;\n    }\n\n    .dataframe tbody tr th {\n        vertical-align: top;\n    }\n\n    .dataframe thead th {\n        text-align: right;\n    }\n</style>\n<table border=\"1\" class=\"dataframe\">\n  <thead>\n    <tr style=\"text-align: right;\">\n      <th></th>\n      <th>CrimeId</th>\n      <th>OriginalCrimeTypeName</th>\n      <th>OffenseDate</th>\n      <th>CallTime</th>\n      <th>CallDateTime</th>\n      <th>Disposition</th>\n      <th>Address</th>\n      <th>City</th>\n      <th>State</th>\n      <th>AgencyId</th>\n      <th>Range</th>\n      <th>AddressType</th>\n    </tr>\n  </thead>\n  <tbody>\n    <tr>\n      <th>10046</th>\n      <td>160964210</td>\n      <td>Well Being Check</td>\n      <td>2016-04-05T00:00:00</td>\n      <td>23:38</td>\n      <td>2016-04-05T23:38:00</td>\n      <td>GOA</td>\n      <td>Hollister Av/hawes St</td>\n      <td>San Francisco</td>\n      <td>CA</td>\n      <td>1</td>\n      <td>NaN</td>\n      <td>Intersection</td>\n    </tr>\n    <tr>\n      <th>10047</th>\n      <td>160964216</td>\n      <td>Traffic Stop</td>\n      <td>2016-04-05T00:00:00</td>\n      <td>23:43</td>\n      <td>2016-04-05T23:43:00</td>\n      <td>ADV</td>\n      <td>California St/mason St</td>\n      <td>San Francisco</td>\n      <td>CA</td>\n      <td>1</td>\n      <td>NaN</td>\n      <td>Intersection</td>\n    </tr>\n    <tr>\n      <th>10048</th>\n      <td>160964227</td>\n      <td>Traffic Stop</td>\n      <td>2016-04-05T00:00:00</td>\n      <td>23:48</td>\n      <td>2016-04-05T23:48:00</td>\n      <td>CIT</td>\n      <td>Rosella Ct/onondaga Av</td>\n      <td>San Francisco</td>\n      <td>CA</td>\n      <td>1</td>\n      <td>NaN</td>\n      <td>Intersection</td>\n    </tr>\n    <tr>\n      <th>10049</th>\n      <td>160964229</td>\n      <td>Passing Call</td>\n      <td>2016-04-05T00:00:00</td>\n      <td>23:48</td>\n      <td>2016-04-05T23:48:00</td>\n      <td>Not recorded</td>\n      <td>0 Blk Herbst Rd</td>\n      <td>San Francisco</td>\n      <td>CA</td>\n      <td>1</td>\n      <td>NaN</td>\n      <td>Geo-Override</td>\n    </tr>\n    <tr>\n      <th>10050</th>\n      <td>160964249</td>\n      <td>Traffic Stop</td>\n      <td>2016-04-05T00:00:00</td>\n      <td>23:54</td>\n      <td>2016-04-05T23:54:00</td>\n      <td>ADV</td>\n      <td>Grant Av/geary St</td>\n      <td>San Francisco</td>\n      <td>CA</td>\n      <td>1</td>\n      <td>NaN</td>\n      <td>Intersection</td>\n    </tr>\n  </tbody>\n</table>\n</div>"
     },
     "execution_count": 32,
     "metadata": {},
     "output_type": "execute_result"
    }
   ],
   "source": [
    "data.tail()"
   ],
   "metadata": {
    "collapsed": false,
    "ExecuteTime": {
     "end_time": "2023-06-13T03:01:11.494076Z",
     "start_time": "2023-06-13T03:01:11.406676400Z"
    }
   }
  },
  {
   "cell_type": "code",
   "execution_count": 19,
   "outputs": [
    {
     "data": {
      "text/plain": "count    1.005100e+04\nmean     1.609394e+08\nstd      1.327006e+04\nmin      1.609033e+08\n25%      1.609303e+08\n50%      1.609408e+08\n75%      1.609513e+08\nmax      1.609642e+08\nName: CrimeId, dtype: float64"
     },
     "execution_count": 19,
     "metadata": {},
     "output_type": "execute_result"
    }
   ],
   "source": [
    "data[\"CrimeId\"].describe()"
   ],
   "metadata": {
    "collapsed": false,
    "ExecuteTime": {
     "end_time": "2023-06-12T13:40:57.817017400Z",
     "start_time": "2023-06-12T13:40:57.766648900Z"
    }
   }
  },
  {
   "cell_type": "code",
   "execution_count": 20,
   "outputs": [
    {
     "data": {
      "text/plain": "count            10051\nunique             575\ntop       Traffic Stop\nfreq              1215\nName: OriginalCrimeTypeName, dtype: object"
     },
     "execution_count": 20,
     "metadata": {},
     "output_type": "execute_result"
    }
   ],
   "source": [
    "data[\"OriginalCrimeTypeName\"].describe()"
   ],
   "metadata": {
    "collapsed": false,
    "ExecuteTime": {
     "end_time": "2023-06-12T13:41:09.230115700Z",
     "start_time": "2023-06-12T13:41:09.217115400Z"
    }
   }
  },
  {
   "cell_type": "code",
   "execution_count": 21,
   "outputs": [
    {
     "data": {
      "text/plain": "count                   10051\nunique                      9\ntop       2016-04-02T00:00:00\nfreq                     2259\nName: OffenseDate, dtype: object"
     },
     "execution_count": 21,
     "metadata": {},
     "output_type": "execute_result"
    }
   ],
   "source": [
    "data[\"OffenseDate\"].describe()\n"
   ],
   "metadata": {
    "collapsed": false,
    "ExecuteTime": {
     "end_time": "2023-06-12T13:42:05.692975700Z",
     "start_time": "2023-06-12T13:42:05.679975500Z"
    }
   }
  },
  {
   "cell_type": "code",
   "execution_count": 22,
   "outputs": [
    {
     "data": {
      "text/plain": "count                   10051\nunique                   5116\ntop       2016-04-04T12:23:00\nfreq                        8\nName: CallDateTime, dtype: object"
     },
     "execution_count": 22,
     "metadata": {},
     "output_type": "execute_result"
    }
   ],
   "source": [
    "data[\"CallDateTime\"].describe()\n"
   ],
   "metadata": {
    "collapsed": false,
    "ExecuteTime": {
     "end_time": "2023-06-12T13:48:56.373282300Z",
     "start_time": "2023-06-12T13:48:56.349228300Z"
    }
   }
  },
  {
   "cell_type": "code",
   "execution_count": 23,
   "outputs": [
    {
     "data": {
      "text/plain": "count     10051\nunique       19\ntop         HAN\nfreq       2820\nName: Disposition, dtype: object"
     },
     "execution_count": 23,
     "metadata": {},
     "output_type": "execute_result"
    }
   ],
   "source": [
    "data[\"Disposition\"].describe()\n"
   ],
   "metadata": {
    "collapsed": false,
    "ExecuteTime": {
     "end_time": "2023-06-12T13:49:05.823184500Z",
     "start_time": "2023-06-12T13:49:05.803184100Z"
    }
   }
  },
  {
   "cell_type": "code",
   "execution_count": 24,
   "outputs": [
    {
     "data": {
      "text/plain": "count                      10051\nunique                      5387\ntop       900 Block Of Market St\nfreq                          58\nName: Address, dtype: object"
     },
     "execution_count": 24,
     "metadata": {},
     "output_type": "execute_result"
    }
   ],
   "source": [
    "data[\"Address\"].describe()\n"
   ],
   "metadata": {
    "collapsed": false,
    "ExecuteTime": {
     "end_time": "2023-06-12T13:49:26.790541700Z",
     "start_time": "2023-06-12T13:49:26.757025600Z"
    }
   }
  },
  {
   "cell_type": "code",
   "execution_count": 25,
   "outputs": [
    {
     "data": {
      "text/plain": "count              9730\nunique                8\ntop       San Francisco\nfreq               9665\nName: City, dtype: object"
     },
     "execution_count": 25,
     "metadata": {},
     "output_type": "execute_result"
    }
   ],
   "source": [
    "data[\"City\"].describe()\n"
   ],
   "metadata": {
    "collapsed": false,
    "ExecuteTime": {
     "end_time": "2023-06-12T13:49:28.529813500Z",
     "start_time": "2023-06-12T13:49:28.494813300Z"
    }
   }
  },
  {
   "cell_type": "code",
   "execution_count": 26,
   "outputs": [
    {
     "data": {
      "text/plain": "count     10048\nunique        1\ntop          CA\nfreq      10048\nName: State, dtype: object"
     },
     "execution_count": 26,
     "metadata": {},
     "output_type": "execute_result"
    }
   ],
   "source": [
    "data[\"State\"].describe()\n"
   ],
   "metadata": {
    "collapsed": false,
    "ExecuteTime": {
     "end_time": "2023-06-12T13:49:29.237030700Z",
     "start_time": "2023-06-12T13:49:29.227030600Z"
    }
   }
  },
  {
   "cell_type": "code",
   "execution_count": 27,
   "outputs": [
    {
     "data": {
      "text/plain": "count     10051\nunique        2\ntop           1\nfreq      10048\nName: AgencyId, dtype: object"
     },
     "execution_count": 27,
     "metadata": {},
     "output_type": "execute_result"
    }
   ],
   "source": [
    "data[\"AgencyId\"].describe()\n"
   ],
   "metadata": {
    "collapsed": false,
    "ExecuteTime": {
     "end_time": "2023-06-12T13:49:30.173588600Z",
     "start_time": "2023-06-12T13:49:30.156064Z"
    }
   }
  },
  {
   "cell_type": "code",
   "execution_count": 31,
   "outputs": [
    {
     "data": {
      "text/plain": "0        False\n1         True\n2         True\n3         True\n4         True\n         ...  \n10046     True\n10047     True\n10048     True\n10049     True\n10050     True\nLength: 10051, dtype: bool"
     },
     "execution_count": 31,
     "metadata": {},
     "output_type": "execute_result"
    }
   ],
   "source": [
    "data.duplicated(subset=[\"CrimeId\"])"
   ],
   "metadata": {
    "collapsed": false,
    "ExecuteTime": {
     "end_time": "2023-06-13T02:54:18.134296900Z",
     "start_time": "2023-06-13T02:54:18.099201300Z"
    }
   }
  },
  {
   "cell_type": "code",
   "execution_count": 54,
   "outputs": [
    {
     "name": "stdout",
     "output_type": "stream",
     "text": [
      "AddressType\n",
      "1                     3\n",
      "Common Location     818\n",
      "Geo-Override        469\n",
      "Intersection       3701\n",
      "Intersectioon         1\n",
      "Premise Address    5059\n",
      "Name: AddressType, dtype: int64\n"
     ]
    }
   ],
   "source": [
    "query1 = data.groupby(\"CrimeId\")['CrimeId'].count()\n",
    "query2 = data.groupby(\"OriginalCrimeTypeName\")['AgencyId'].count()\n",
    "query3 = data.groupby(\"OffenseDate\")['OffenseDate'].count()\n",
    "query4 = data.groupby(\"CallTime\")['CallTime'].count()\n",
    "query5 = data.groupby(\"CallDateTime\")['CallDateTime'].count()\n",
    "query6 = data.groupby(\"Disposition\")['Disposition'].count()\n",
    "query7 = data.groupby(\"Address\")['Address'].count()\n",
    "query8 = data.groupby(\"City\")['City'].count()\n",
    "query9 = data.groupby(\"State\")['State'].count()\n",
    "query10 = data.groupby(\"AgencyId\")['AgencyId'].count()\n",
    "query11 = data.groupby(\"Range\")['Range'].count()\n",
    "query12 = data.groupby(\"AddressType\")['AddressType'].count()\n",
    "\n",
    "print(query12)"
   ],
   "metadata": {
    "collapsed": false,
    "ExecuteTime": {
     "end_time": "2023-06-13T03:14:09.135584Z",
     "start_time": "2023-06-13T03:14:09.105580300Z"
    }
   }
  },
  {
   "cell_type": "code",
   "execution_count": null,
   "outputs": [],
   "source": [],
   "metadata": {
    "collapsed": false
   }
  },
  {
   "cell_type": "markdown",
   "source": [
    "# Estructura de fichero\n",
    "\n",
    "1.\tTe has encontrado con un fichero CSV cuyo formato es:\n",
    "a. Fichero de valores sin comillas y separados por comas.\n",
    "b. Fichero de valores sin comillas y separados por punto y coma. <------------------------\n",
    "c. Fichero de valores con comillas y separados por comas.\n",
    "d. Fichero de valores con comillas y separados por punto y coma.\n"
   ],
   "metadata": {
    "collapsed": false
   }
  },
  {
   "cell_type": "markdown",
   "source": [
    "2.\t¿Existe algún campo con valores únicos que pueda servir de clave principal?\n",
    "a. Sí, y realmente son registros únicos. <------------------------------------------------\n",
    "b. No, y es necesario incluir otro campo más para conseguir una clave principal.\n",
    "c. Sí, pero es recomendable utilizar otro campo más para conseguir una clave principal.\n",
    "d. Sí, pero existen registros duplicados que impiden la unicidad del campo.\n"
   ],
   "metadata": {
    "collapsed": false
   }
  },
  {
   "cell_type": "markdown",
   "source": [
    "3.\tEn relación con los campos del fichero y los valores que contienen, la siguiente afirmación es verdadera:\n",
    "a.\tExisten tres campos que son nulos en su totalidad y pueden ser eliminados del fichero.\n",
    "b.\tTodos los campos tienen valores y, por ello, deben mantenerse en el fichero.\n",
    "c.\tExiste un campo que no contiene información y podría eliminarse del fichero. <-------------------------------\n",
    "d.\tExisten campos con cadenas de textos repetidas que podrían ser eliminados del fichero.\n"
   ],
   "metadata": {
    "collapsed": false
   }
  },
  {
   "cell_type": "markdown",
   "source": [
    "4.\tDespués de revisar el fichero con detenimiento, se puede decir que los siguientes son problemas que existen en el fichero:\n",
    "a.\tExisten registros que por su ID directamente son duplicados y deben eliminarse.\n",
    "b.\tExisten registros cuyos ID están duplicados, pero podrían no ser registros duplicados y, por ello, eliminarlos no debe ser la primera opción.\n",
    "c.\tExisten registros que están desplazados dentro del fichero.<----------------------------------\n",
    "d.\tExisten campos con formato de fechas diferentes.\n"
   ],
   "metadata": {
    "collapsed": false
   }
  },
  {
   "cell_type": "markdown",
   "source": [
    "5.\tDespués de revisar los valores con formato de cadenas o string, se puede decir que los siguientes son problemas que existen en el fichero:\n",
    "a.\tHay campos numéricos discretos con formato de cadena en campos que son numéricos. <--------------------------\n",
    "b.\tExisten valores de cadena con problemas de comillas simples y dobles.\n",
    "c.\tExisten valores de cadena que no son uniformes ni están normalizados.\n",
    "d.\tExisten campos categóricos que tipifican datos y no están normalizados.\n"
   ],
   "metadata": {
    "collapsed": false
   }
  },
  {
   "cell_type": "markdown",
   "source": [
    "6.\tDespués de identificar y eliminar todos los problemas del fichero CSV, si este se convierte a JSON, la estructura y el formato a continuación son los que más se aproximan al resultado final:\n",
    "a.\tOpción 1.\n",
    "b.\tOpción 2.\n",
    "c.\tOpción 3. <-------------------------------------\n",
    "d.\tOpción 4.\n"
   ],
   "metadata": {
    "collapsed": false
   }
  },
  {
   "cell_type": "markdown",
   "source": [
    "7.\tEn esta actividad has llevado a cabo algunas tareas de limpieza que son necesarias para almacenar los datos. Partiendo de este objetivo, si en un proyecto de datos recibirás muchos ficheros en los que puede variar el número de campos, el tipo de datos y la cantidad de registros, qué formato de fichero recomendarías para recibir toda esa información y minimizar los pasos en el almacenamiento:\n",
    "a.\tCSV y XML.\n",
    "b.\tCSV, XML y JSON.\n",
    "c.\tJSON<----------------------------\n",
    "d.\tCSV\n"
   ],
   "metadata": {
    "collapsed": false
   }
  },
  {
   "cell_type": "code",
   "execution_count": 55,
   "outputs": [],
   "source": [
    "data.to_json(\"data.json\")"
   ],
   "metadata": {
    "collapsed": false,
    "ExecuteTime": {
     "end_time": "2023-06-13T03:22:03.074195Z",
     "start_time": "2023-06-13T03:22:03.062183200Z"
    }
   }
  }
 ],
 "metadata": {
  "kernelspec": {
   "display_name": "Python 3.11.0 64-bit",
   "language": "python",
   "name": "python3"
  },
  "language_info": {
   "name": "python",
   "version": "3.11.0"
  },
  "orig_nbformat": 4,
  "vscode": {
   "interpreter": {
    "hash": "43daf46ee1a2bec30820ad54ca49c547678bba27ad881deae1888b1ba966de35"
   }
  }
 },
 "nbformat": 4,
 "nbformat_minor": 2
}
